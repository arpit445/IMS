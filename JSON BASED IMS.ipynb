{
 "cells": [
  {
   "cell_type": "code",
   "execution_count": 2,
   "id": "52f5ed11",
   "metadata": {},
   "outputs": [],
   "source": [
    "import json\n",
    "\n",
    "record={\"11452366\": {\"name\" : \"amit dubey\" , \"rollno.\" : 1121 , \"percentage\" : 77.00},\n",
    "        \"11452367\": {\"name\" : \"ajay pandey\" , \"rollno.\" : 1122 , \"percentage\" : 71.20},\n",
    "        \"11452367\": {\"name\" : \"akshay batra\" , \"rollno.\" : 1123 , \"percentage\" : 74.68},\n",
    "        \"11452368\": {\"name\" : \"ashwin kumar\" , \"rollno.\" : 1124 , \"percentage\" : 91.32},\n",
    "        \"11452369\": {\"name\" : \"binita shukla\" , \"rollno.\" : 1125 , \"percentage\" : 85.45},\n",
    "        \"11452370\": {\"name\" : \"bhupendra singh\" , \"rollno.\" : 1126 , \"percentage\" : 68.24},\n",
    "        \"11452371\": {\"name\" : \"chandra kant\" , \"rollno.\" : 1127 , \"percentage\" : 93.12},\n",
    "        \"11452372\": {\"name\" : \"dhruv sharma\" , \"rollno.\" : 1128 , \"percentage\" : 82.60},\n",
    "        \"11452373\": {\"name\" : \"dheeraj sahu\" , \"rollno.\" : 1129 , \"percentage\" : 54.90},\n",
    "        \"11452374\": {\"name\" : \"divya chauhan\" , \"rollno.\" : 1130 , \"percentage\" : 57.87},\n",
    "        \"11452375\": {\"name\" : \"ejas khan\" , \"rollno.\" : 1131 , \"percentage\" : 72.38},\n",
    "        \"11452376\": {\"name\" : \"farhan khan\" , \"rollno.\" : 1132 , \"percentage\" : 59.78},\n",
    "        \"11452377\": {\"name\" : \"fatima ali\" , \"rollno.\" : 1133 , \"percentage\" : 52.68},\n",
    "        \"11452378\": {\"name\" : \"gyanendra tiwari\" , \"rollno.\" : 1134 , \"percentage\" : 95.20},\n",
    "        \"11452379\": {\"name\" : \"govind saini\" , \"rollno.\" : 1135 , \"percentage\" : 97.79},\n",
    "        \"11452380\": {\"name\" : \"ganesh singh\" , \"rollno.\" : 1136 , \"percentage\" : 88.52},\n",
    "        \"11452381\": {\"name\" : \"hrithik thakur\" , \"rollno.\" : 1137 , \"percentage\" : 79.60},\n",
    "        \"11452382\": {\"name\" : \"indrani mishra\" , \"rollno.\" : 1138 , \"percentage\" : 79.98},\n",
    "        \"11452383\": {\"name\" : \"iti pathak\" , \"rollno.\" : 1139 , \"percentage\" : 96.71},\n",
    "        \"11452384\": {\"name\" : \"ishan ravi\" , \"rollno.\" : 1140 , \"percentage\" : 76.50},\n",
    "        \"11452385\": {\"name\" : \"jaidev lokesh\" , \"rollno.\" : 1141 , \"percentage\" : 70.04},\n",
    "        \"11452386\": {\"name\" : \"kaustubh kamle\" , \"rollno.\" : 1142 , \"percentage\" : 50.91},\n",
    "        \"11452387\": {\"name\" : \"karthik desai\" , \"rollno.\" : 1143 , \"percentage\" : 87.63},\n",
    "        \"11452388\": {\"name\" : \"lokesh singh\" , \"rollno.\" : 1144 , \"percentage\" : 84.52},\n",
    "        \"11452389\": {\"name\" : \"mithilesh\" , \"rollno.\" : 1145 , \"percentage\" : 66.34},\n",
    "        \"11452390\": {\"name\" : \"manik gupta\" , \"rollno.\" : 1146 , \"percentage\" : 53.25},\n",
    "        \"11452391\": {\"name\" : \"nupur mehta\" , \"rollno.\" : 1147 , \"percentage\" : 60.49},\n",
    "        \"11452392\": {\"name\" : \"nisha kumari\" , \"rollno.\" : 1148 , \"percentage\" : 94.05},\n",
    "        \"11452393\": {\"name\" : \"pankhuri chatterjee\" , \"rollno.\" : 1149 , \"percentage\" : 90.18},\n",
    "        \"11452394\": {\"name\" : \"palak sharma\" , \"rollno.\" : 1150 , \"percentage\" : 81.83},\n",
    "        \"11452395\": {\"name\" : \"rajesh narware\" , \"rollno.\" : 1151 , \"percentage\" : 78.51},\n",
    "        \"11452396\": {\"name\" : \"sumit kaurav\" , \"rollno.\" : 1152 , \"percentage\" : 55.02} }"
   ]
  },
  {
   "cell_type": "code",
   "execution_count": 3,
   "id": "2edfed12",
   "metadata": {},
   "outputs": [
    {
     "data": {
      "text/plain": [
       "{'11452366': {'name': 'amit dubey', 'rollno.': 1121, 'percentage': 77.0},\n",
       " '11452367': {'name': 'akshay batra', 'rollno.': 1123, 'percentage': 74.68},\n",
       " '11452368': {'name': 'ashwin kumar', 'rollno.': 1124, 'percentage': 91.32},\n",
       " '11452369': {'name': 'binita shukla', 'rollno.': 1125, 'percentage': 85.45},\n",
       " '11452370': {'name': 'bhupendra singh', 'rollno.': 1126, 'percentage': 68.24},\n",
       " '11452371': {'name': 'chandra kant', 'rollno.': 1127, 'percentage': 93.12},\n",
       " '11452372': {'name': 'dhruv sharma', 'rollno.': 1128, 'percentage': 82.6},\n",
       " '11452373': {'name': 'dheeraj sahu', 'rollno.': 1129, 'percentage': 54.9},\n",
       " '11452374': {'name': 'divya chauhan', 'rollno.': 1130, 'percentage': 57.87},\n",
       " '11452375': {'name': 'ejas khan', 'rollno.': 1131, 'percentage': 72.38},\n",
       " '11452376': {'name': 'farhan khan', 'rollno.': 1132, 'percentage': 59.78},\n",
       " '11452377': {'name': 'fatima ali', 'rollno.': 1133, 'percentage': 52.68},\n",
       " '11452378': {'name': 'gyanendra tiwari', 'rollno.': 1134, 'percentage': 95.2},\n",
       " '11452379': {'name': 'govind saini', 'rollno.': 1135, 'percentage': 97.79},\n",
       " '11452380': {'name': 'ganesh singh', 'rollno.': 1136, 'percentage': 88.52},\n",
       " '11452381': {'name': 'hrithik thakur', 'rollno.': 1137, 'percentage': 79.6},\n",
       " '11452382': {'name': 'indrani mishra', 'rollno.': 1138, 'percentage': 79.98},\n",
       " '11452383': {'name': 'iti pathak', 'rollno.': 1139, 'percentage': 96.71},\n",
       " '11452384': {'name': 'ishan ravi', 'rollno.': 1140, 'percentage': 76.5},\n",
       " '11452385': {'name': 'jaidev lokesh', 'rollno.': 1141, 'percentage': 70.04},\n",
       " '11452386': {'name': 'kaustubh kamle', 'rollno.': 1142, 'percentage': 50.91},\n",
       " '11452387': {'name': 'karthik desai', 'rollno.': 1143, 'percentage': 87.63},\n",
       " '11452388': {'name': 'lokesh singh', 'rollno.': 1144, 'percentage': 84.52},\n",
       " '11452389': {'name': 'mithilesh', 'rollno.': 1145, 'percentage': 66.34},\n",
       " '11452390': {'name': 'manik gupta', 'rollno.': 1146, 'percentage': 53.25},\n",
       " '11452391': {'name': 'nupur mehta', 'rollno.': 1147, 'percentage': 60.49},\n",
       " '11452392': {'name': 'nisha kumari', 'rollno.': 1148, 'percentage': 94.05},\n",
       " '11452393': {'name': 'pankhuri chatterjee',\n",
       "  'rollno.': 1149,\n",
       "  'percentage': 90.18},\n",
       " '11452394': {'name': 'palak sharma', 'rollno.': 1150, 'percentage': 81.83},\n",
       " '11452395': {'name': 'rajesh narware', 'rollno.': 1151, 'percentage': 78.51},\n",
       " '11452396': {'name': 'sumit kaurav', 'rollno.': 1152, 'percentage': 55.02}}"
      ]
     },
     "execution_count": 3,
     "metadata": {},
     "output_type": "execute_result"
    }
   ],
   "source": [
    "record"
   ]
  },
  {
   "cell_type": "code",
   "execution_count": 7,
   "id": "7fbce8d3",
   "metadata": {},
   "outputs": [
    {
     "name": "stdout",
     "output_type": "stream",
     "text": [
      "rajesh narware\n",
      "1151\n",
      "78.51\n"
     ]
    }
   ],
   "source": [
    "uniqueid='11452395'\n",
    "\n",
    "print(record[uniqueid][\"name\"])\n",
    "print(record[uniqueid][\"rollno.\"])\n",
    "print(record[uniqueid][\"percentage\"])"
   ]
  },
  {
   "cell_type": "code",
   "execution_count": 8,
   "id": "2002227d",
   "metadata": {},
   "outputs": [
    {
     "data": {
      "text/plain": [
       "'rajesh narware'"
      ]
     },
     "execution_count": 8,
     "metadata": {},
     "output_type": "execute_result"
    }
   ],
   "source": [
    "record[uniqueid][\"name\"]"
   ]
  },
  {
   "cell_type": "code",
   "execution_count": 9,
   "id": "ae231b29",
   "metadata": {},
   "outputs": [],
   "source": [
    "record[uniqueid][\"percentage\"]=82.55"
   ]
  },
  {
   "cell_type": "code",
   "execution_count": 10,
   "id": "e7ef9a38",
   "metadata": {},
   "outputs": [
    {
     "data": {
      "text/plain": [
       "{'11452366': {'name': 'amit dubey', 'rollno.': 1121, 'percentage': 77.0},\n",
       " '11452367': {'name': 'akshay batra', 'rollno.': 1123, 'percentage': 74.68},\n",
       " '11452368': {'name': 'ashwin kumar', 'rollno.': 1124, 'percentage': 91.32},\n",
       " '11452369': {'name': 'binita shukla', 'rollno.': 1125, 'percentage': 85.45},\n",
       " '11452370': {'name': 'bhupendra singh', 'rollno.': 1126, 'percentage': 68.24},\n",
       " '11452371': {'name': 'chandra kant', 'rollno.': 1127, 'percentage': 93.12},\n",
       " '11452372': {'name': 'dhruv sharma', 'rollno.': 1128, 'percentage': 82.6},\n",
       " '11452373': {'name': 'dheeraj sahu', 'rollno.': 1129, 'percentage': 54.9},\n",
       " '11452374': {'name': 'divya chauhan', 'rollno.': 1130, 'percentage': 57.87},\n",
       " '11452375': {'name': 'ejas khan', 'rollno.': 1131, 'percentage': 72.38},\n",
       " '11452376': {'name': 'farhan khan', 'rollno.': 1132, 'percentage': 59.78},\n",
       " '11452377': {'name': 'fatima ali', 'rollno.': 1133, 'percentage': 52.68},\n",
       " '11452378': {'name': 'gyanendra tiwari', 'rollno.': 1134, 'percentage': 95.2},\n",
       " '11452379': {'name': 'govind saini', 'rollno.': 1135, 'percentage': 97.79},\n",
       " '11452380': {'name': 'ganesh singh', 'rollno.': 1136, 'percentage': 88.52},\n",
       " '11452381': {'name': 'hrithik thakur', 'rollno.': 1137, 'percentage': 79.6},\n",
       " '11452382': {'name': 'indrani mishra', 'rollno.': 1138, 'percentage': 79.98},\n",
       " '11452383': {'name': 'iti pathak', 'rollno.': 1139, 'percentage': 96.71},\n",
       " '11452384': {'name': 'ishan ravi', 'rollno.': 1140, 'percentage': 76.5},\n",
       " '11452385': {'name': 'jaidev lokesh', 'rollno.': 1141, 'percentage': 70.04},\n",
       " '11452386': {'name': 'kaustubh kamle', 'rollno.': 1142, 'percentage': 50.91},\n",
       " '11452387': {'name': 'karthik desai', 'rollno.': 1143, 'percentage': 87.63},\n",
       " '11452388': {'name': 'lokesh singh', 'rollno.': 1144, 'percentage': 84.52},\n",
       " '11452389': {'name': 'mithilesh', 'rollno.': 1145, 'percentage': 66.34},\n",
       " '11452390': {'name': 'manik gupta', 'rollno.': 1146, 'percentage': 53.25},\n",
       " '11452391': {'name': 'nupur mehta', 'rollno.': 1147, 'percentage': 60.49},\n",
       " '11452392': {'name': 'nisha kumari', 'rollno.': 1148, 'percentage': 94.05},\n",
       " '11452393': {'name': 'pankhuri chatterjee',\n",
       "  'rollno.': 1149,\n",
       "  'percentage': 90.18},\n",
       " '11452394': {'name': 'palak sharma', 'rollno.': 1150, 'percentage': 81.83},\n",
       " '11452395': {'name': 'rajesh narware', 'rollno.': 1151, 'percentage': 82.55},\n",
       " '11452396': {'name': 'sumit kaurav', 'rollno.': 1152, 'percentage': 55.02}}"
      ]
     },
     "execution_count": 10,
     "metadata": {},
     "output_type": "execute_result"
    }
   ],
   "source": [
    "record"
   ]
  },
  {
   "cell_type": "code",
   "execution_count": 9,
   "id": "2b6c9998",
   "metadata": {},
   "outputs": [
    {
     "data": {
      "text/plain": [
       "{'11452366': {'name': 'amit dubey', 'rollno.': 1121, 'percentage': 77.0},\n",
       " '11452367': {'name': 'akshay batra', 'rollno.': 1123, 'percentage': 74.68},\n",
       " '11452368': {'name': 'ashwin kumar', 'rollno.': 1124, 'percentage': 91.32},\n",
       " '11452369': {'name': 'binita shukla', 'rollno.': 1125, 'percentage': 85.45},\n",
       " '11452370': {'name': 'bhupendra singh', 'rollno.': 1126, 'percentage': 68.24},\n",
       " '11452371': {'name': 'chandra kant', 'rollno.': 1127, 'percentage': 93.12},\n",
       " '11452372': {'name': 'dhruv sharma', 'rollno.': 1128, 'percentage': 82.6},\n",
       " '11452373': {'name': 'dheeraj sahu', 'rollno.': 1129, 'percentage': 54.9},\n",
       " '11452374': {'name': 'divya chauhan', 'rollno.': 1130, 'percentage': 57.87},\n",
       " '11452375': {'name': 'ejas khan', 'rollno.': 1131, 'percentage': 72.38},\n",
       " '11452376': {'name': 'farhan khan', 'rollno.': 1132, 'percentage': 59.78},\n",
       " '11452377': {'name': 'fatima ali', 'rollno.': 1133, 'percentage': 52.68},\n",
       " '11452378': {'name': 'gyanendra tiwari', 'rollno.': 1134, 'percentage': 95.2},\n",
       " '11452379': {'name': 'govind saini', 'rollno.': 1135, 'percentage': 97.79},\n",
       " '11452380': {'name': 'ganesh singh', 'rollno.': 1136, 'percentage': 88.52},\n",
       " '11452381': {'name': 'hrithik thakur', 'rollno.': 1137, 'percentage': 79.6},\n",
       " '11452382': {'name': 'indrani mishra', 'rollno.': 1138, 'percentage': 79.98},\n",
       " '11452383': {'name': 'iti pathak', 'rollno.': 1139, 'percentage': 96.71},\n",
       " '11452384': {'name': 'ishan ravi', 'rollno.': 1140, 'percentage': 76.5},\n",
       " '11452385': {'name': 'jaidev lokesh', 'rollno.': 1141, 'percentage': 70.04},\n",
       " '11452386': {'name': 'kaustubh kamle', 'rollno.': 1142, 'percentage': 50.91},\n",
       " '11452387': {'name': 'karthik desai', 'rollno.': 1143, 'percentage': 87.63},\n",
       " '11452388': {'name': 'lokesh singh', 'rollno.': 1144, 'percentage': 84.52},\n",
       " '11452389': {'name': 'mithilesh', 'rollno.': 1145, 'percentage': 66.34},\n",
       " '11452390': {'name': 'manik gupta', 'rollno.': 1146, 'percentage': 53.25},\n",
       " '11452391': {'name': 'nupur mehta', 'rollno.': 1147, 'percentage': 60.49},\n",
       " '11452392': {'name': 'nisha kumari', 'rollno.': 1148, 'percentage': 94.05},\n",
       " '11452393': {'name': 'pankhuri chatterjee',\n",
       "  'rollno.': 1149,\n",
       "  'percentage': 90.18},\n",
       " '11452394': {'name': 'palak sharma', 'rollno.': 1150, 'percentage': 81.83},\n",
       " '11452395': {'name': 'rajesh narware', 'rollno.': 1151, 'percentage': 78.51},\n",
       " '11452396': {'name': 'sumit kaurav', 'rollno.': 1152, 'percentage': 55.02}}"
      ]
     },
     "execution_count": 9,
     "metadata": {},
     "output_type": "execute_result"
    }
   ],
   "source": [
    "record"
   ]
  },
  {
   "cell_type": "code",
   "execution_count": 10,
   "id": "53a967c6",
   "metadata": {},
   "outputs": [],
   "source": [
    "js = json.dumps(record)"
   ]
  },
  {
   "cell_type": "code",
   "execution_count": 11,
   "id": "45456ebd",
   "metadata": {},
   "outputs": [
    {
     "data": {
      "text/plain": [
       "'{\"11452366\": {\"name\": \"amit dubey\", \"rollno.\": 1121, \"percentage\": 77.0}, \"11452367\": {\"name\": \"akshay batra\", \"rollno.\": 1123, \"percentage\": 74.68}, \"11452368\": {\"name\": \"ashwin kumar\", \"rollno.\": 1124, \"percentage\": 91.32}, \"11452369\": {\"name\": \"binita shukla\", \"rollno.\": 1125, \"percentage\": 85.45}, \"11452370\": {\"name\": \"bhupendra singh\", \"rollno.\": 1126, \"percentage\": 68.24}, \"11452371\": {\"name\": \"chandra kant\", \"rollno.\": 1127, \"percentage\": 93.12}, \"11452372\": {\"name\": \"dhruv sharma\", \"rollno.\": 1128, \"percentage\": 82.6}, \"11452373\": {\"name\": \"dheeraj sahu\", \"rollno.\": 1129, \"percentage\": 54.9}, \"11452374\": {\"name\": \"divya chauhan\", \"rollno.\": 1130, \"percentage\": 57.87}, \"11452375\": {\"name\": \"ejas khan\", \"rollno.\": 1131, \"percentage\": 72.38}, \"11452376\": {\"name\": \"farhan khan\", \"rollno.\": 1132, \"percentage\": 59.78}, \"11452377\": {\"name\": \"fatima ali\", \"rollno.\": 1133, \"percentage\": 52.68}, \"11452378\": {\"name\": \"gyanendra tiwari\", \"rollno.\": 1134, \"percentage\": 95.2}, \"11452379\": {\"name\": \"govind saini\", \"rollno.\": 1135, \"percentage\": 97.79}, \"11452380\": {\"name\": \"ganesh singh\", \"rollno.\": 1136, \"percentage\": 88.52}, \"11452381\": {\"name\": \"hrithik thakur\", \"rollno.\": 1137, \"percentage\": 79.6}, \"11452382\": {\"name\": \"indrani mishra\", \"rollno.\": 1138, \"percentage\": 79.98}, \"11452383\": {\"name\": \"iti pathak\", \"rollno.\": 1139, \"percentage\": 96.71}, \"11452384\": {\"name\": \"ishan ravi\", \"rollno.\": 1140, \"percentage\": 76.5}, \"11452385\": {\"name\": \"jaidev lokesh\", \"rollno.\": 1141, \"percentage\": 70.04}, \"11452386\": {\"name\": \"kaustubh kamle\", \"rollno.\": 1142, \"percentage\": 50.91}, \"11452387\": {\"name\": \"karthik desai\", \"rollno.\": 1143, \"percentage\": 87.63}, \"11452388\": {\"name\": \"lokesh singh\", \"rollno.\": 1144, \"percentage\": 84.52}, \"11452389\": {\"name\": \"mithilesh\", \"rollno.\": 1145, \"percentage\": 66.34}, \"11452390\": {\"name\": \"manik gupta\", \"rollno.\": 1146, \"percentage\": 53.25}, \"11452391\": {\"name\": \"nupur mehta\", \"rollno.\": 1147, \"percentage\": 60.49}, \"11452392\": {\"name\": \"nisha kumari\", \"rollno.\": 1148, \"percentage\": 94.05}, \"11452393\": {\"name\": \"pankhuri chatterjee\", \"rollno.\": 1149, \"percentage\": 90.18}, \"11452394\": {\"name\": \"palak sharma\", \"rollno.\": 1150, \"percentage\": 81.83}, \"11452395\": {\"name\": \"rajesh narware\", \"rollno.\": 1151, \"percentage\": 78.51}, \"11452396\": {\"name\": \"sumit kaurav\", \"rollno.\": 1152, \"percentage\": 55.02}}'"
      ]
     },
     "execution_count": 11,
     "metadata": {},
     "output_type": "execute_result"
    }
   ],
   "source": [
    "js"
   ]
  },
  {
   "cell_type": "code",
   "execution_count": 12,
   "id": "8c8689a0",
   "metadata": {},
   "outputs": [
    {
     "data": {
      "text/plain": [
       "{'11452366': {'name': 'amit dubey', 'rollno.': 1121, 'percentage': 77.0},\n",
       " '11452367': {'name': 'akshay batra', 'rollno.': 1123, 'percentage': 74.68},\n",
       " '11452368': {'name': 'ashwin kumar', 'rollno.': 1124, 'percentage': 91.32},\n",
       " '11452369': {'name': 'binita shukla', 'rollno.': 1125, 'percentage': 85.45},\n",
       " '11452370': {'name': 'bhupendra singh', 'rollno.': 1126, 'percentage': 68.24},\n",
       " '11452371': {'name': 'chandra kant', 'rollno.': 1127, 'percentage': 93.12},\n",
       " '11452372': {'name': 'dhruv sharma', 'rollno.': 1128, 'percentage': 82.6},\n",
       " '11452373': {'name': 'dheeraj sahu', 'rollno.': 1129, 'percentage': 54.9},\n",
       " '11452374': {'name': 'divya chauhan', 'rollno.': 1130, 'percentage': 57.87},\n",
       " '11452375': {'name': 'ejas khan', 'rollno.': 1131, 'percentage': 72.38},\n",
       " '11452376': {'name': 'farhan khan', 'rollno.': 1132, 'percentage': 59.78},\n",
       " '11452377': {'name': 'fatima ali', 'rollno.': 1133, 'percentage': 52.68},\n",
       " '11452378': {'name': 'gyanendra tiwari', 'rollno.': 1134, 'percentage': 95.2},\n",
       " '11452379': {'name': 'govind saini', 'rollno.': 1135, 'percentage': 97.79},\n",
       " '11452380': {'name': 'ganesh singh', 'rollno.': 1136, 'percentage': 88.52},\n",
       " '11452381': {'name': 'hrithik thakur', 'rollno.': 1137, 'percentage': 79.6},\n",
       " '11452382': {'name': 'indrani mishra', 'rollno.': 1138, 'percentage': 79.98},\n",
       " '11452383': {'name': 'iti pathak', 'rollno.': 1139, 'percentage': 96.71},\n",
       " '11452384': {'name': 'ishan ravi', 'rollno.': 1140, 'percentage': 76.5},\n",
       " '11452385': {'name': 'jaidev lokesh', 'rollno.': 1141, 'percentage': 70.04},\n",
       " '11452386': {'name': 'kaustubh kamle', 'rollno.': 1142, 'percentage': 50.91},\n",
       " '11452387': {'name': 'karthik desai', 'rollno.': 1143, 'percentage': 87.63},\n",
       " '11452388': {'name': 'lokesh singh', 'rollno.': 1144, 'percentage': 84.52},\n",
       " '11452389': {'name': 'mithilesh', 'rollno.': 1145, 'percentage': 66.34},\n",
       " '11452390': {'name': 'manik gupta', 'rollno.': 1146, 'percentage': 53.25},\n",
       " '11452391': {'name': 'nupur mehta', 'rollno.': 1147, 'percentage': 60.49},\n",
       " '11452392': {'name': 'nisha kumari', 'rollno.': 1148, 'percentage': 94.05},\n",
       " '11452393': {'name': 'pankhuri chatterjee',\n",
       "  'rollno.': 1149,\n",
       "  'percentage': 90.18},\n",
       " '11452394': {'name': 'palak sharma', 'rollno.': 1150, 'percentage': 81.83},\n",
       " '11452395': {'name': 'rajesh narware', 'rollno.': 1151, 'percentage': 78.51},\n",
       " '11452396': {'name': 'sumit kaurav', 'rollno.': 1152, 'percentage': 55.02}}"
      ]
     },
     "execution_count": 12,
     "metadata": {},
     "output_type": "execute_result"
    }
   ],
   "source": [
    "record"
   ]
  },
  {
   "cell_type": "code",
   "execution_count": 13,
   "id": "b01703b1",
   "metadata": {},
   "outputs": [
    {
     "data": {
      "text/plain": [
       "str"
      ]
     },
     "execution_count": 13,
     "metadata": {},
     "output_type": "execute_result"
    }
   ],
   "source": [
    "type(js)"
   ]
  },
  {
   "cell_type": "code",
   "execution_count": 14,
   "id": "81107d92",
   "metadata": {},
   "outputs": [
    {
     "data": {
      "text/plain": [
       "dict"
      ]
     },
     "execution_count": 14,
     "metadata": {},
     "output_type": "execute_result"
    }
   ],
   "source": [
    "type(record)"
   ]
  },
  {
   "cell_type": "code",
   "execution_count": null,
   "id": "98b7e1d3",
   "metadata": {},
   "outputs": [],
   "source": [
    "fd = open(\"record.txt\",\"w\")\n",
    "fd.write(js)\n",
    "fd.close()"
   ]
  },
  {
   "cell_type": "code",
   "execution_count": null,
   "id": "d372c170",
   "metadata": {},
   "outputs": [],
   "source": [
    "fd = open(\"record.txt\",\"r\")\n",
    "txt = fd.read()\n",
    "fd.close()          "
   ]
  },
  {
   "cell_type": "code",
   "execution_count": 18,
   "id": "bce15a0d",
   "metadata": {},
   "outputs": [
    {
     "data": {
      "text/plain": [
       "'{\"11452366\": {\"name\": \"amit dubey\", \"rollno.\": 1121, \"percentage\": 77.0}, \"11452367\": {\"name\": \"akshay batra\", \"rollno.\": 1123, \"percentage\": 74.68}, \"11452368\": {\"name\": \"ashwin kumar\", \"rollno.\": 1124, \"percentage\": 91.32}, \"11452369\": {\"name\": \"binita shukla\", \"rollno.\": 1125, \"percentage\": 85.45}, \"11452370\": {\"name\": \"bhupendra singh\", \"rollno.\": 1126, \"percentage\": 68.24}, \"11452371\": {\"name\": \"chandra kant\", \"rollno.\": 1127, \"percentage\": 93.12}, \"11452372\": {\"name\": \"dhruv sharma\", \"rollno.\": 1128, \"percentage\": 82.6}, \"11452373\": {\"name\": \"dheeraj sahu\", \"rollno.\": 1129, \"percentage\": 54.9}, \"11452374\": {\"name\": \"divya chauhan\", \"rollno.\": 1130, \"percentage\": 57.87}, \"11452375\": {\"name\": \"ejas khan\", \"rollno.\": 1131, \"percentage\": 72.38}, \"11452376\": {\"name\": \"farhan khan\", \"rollno.\": 1132, \"percentage\": 59.78}, \"11452377\": {\"name\": \"fatima ali\", \"rollno.\": 1133, \"percentage\": 52.68}, \"11452378\": {\"name\": \"gyanendra tiwari\", \"rollno.\": 1134, \"percentage\": 95.2}, \"11452379\": {\"name\": \"govind saini\", \"rollno.\": 1135, \"percentage\": 97.79}, \"11452380\": {\"name\": \"ganesh singh\", \"rollno.\": 1136, \"percentage\": 88.52}, \"11452381\": {\"name\": \"hrithik thakur\", \"rollno.\": 1137, \"percentage\": 79.6}, \"11452382\": {\"name\": \"indrani mishra\", \"rollno.\": 1138, \"percentage\": 79.98}, \"11452383\": {\"name\": \"iti pathak\", \"rollno.\": 1139, \"percentage\": 96.71}, \"11452384\": {\"name\": \"ishan ravi\", \"rollno.\": 1140, \"percentage\": 76.5}, \"11452385\": {\"name\": \"jaidev lokesh\", \"rollno.\": 1141, \"percentage\": 70.04}, \"11452386\": {\"name\": \"kaustubh kamle\", \"rollno.\": 1142, \"percentage\": 50.91}, \"11452387\": {\"name\": \"karthik desai\", \"rollno.\": 1143, \"percentage\": 87.63}, \"11452388\": {\"name\": \"lokesh singh\", \"rollno.\": 1144, \"percentage\": 84.52}, \"11452389\": {\"name\": \"mithilesh\", \"rollno.\": 1145, \"percentage\": 66.34}, \"11452390\": {\"name\": \"manik gupta\", \"rollno.\": 1146, \"percentage\": 53.25}, \"11452391\": {\"name\": \"nupur mehta\", \"rollno.\": 1147, \"percentage\": 60.49}, \"11452392\": {\"name\": \"nisha kumari\", \"rollno.\": 1148, \"percentage\": 94.05}, \"11452393\": {\"name\": \"pankhuri chatterjee\", \"rollno.\": 1149, \"percentage\": 90.18}, \"11452394\": {\"name\": \"palak sharma\", \"rollno.\": 1150, \"percentage\": 81.83}, \"11452395\": {\"name\": \"rajesh narware\", \"rollno.\": 1151, \"percentage\": 78.51}, \"11452396\": {\"name\": \"sumit kaurav\", \"rollno.\": 1152, \"percentage\": 55.02}}'"
      ]
     },
     "execution_count": 18,
     "metadata": {},
     "output_type": "execute_result"
    }
   ],
   "source": [
    "txt"
   ]
  },
  {
   "cell_type": "code",
   "execution_count": 19,
   "id": "33f2b3e1",
   "metadata": {},
   "outputs": [],
   "source": [
    "record = json.loads(txt)"
   ]
  },
  {
   "cell_type": "code",
   "execution_count": 20,
   "id": "2c751f48",
   "metadata": {},
   "outputs": [
    {
     "data": {
      "text/plain": [
       "{'11452366': {'name': 'amit dubey', 'rollno.': 1121, 'percentage': 77.0},\n",
       " '11452367': {'name': 'akshay batra', 'rollno.': 1123, 'percentage': 74.68},\n",
       " '11452368': {'name': 'ashwin kumar', 'rollno.': 1124, 'percentage': 91.32},\n",
       " '11452369': {'name': 'binita shukla', 'rollno.': 1125, 'percentage': 85.45},\n",
       " '11452370': {'name': 'bhupendra singh', 'rollno.': 1126, 'percentage': 68.24},\n",
       " '11452371': {'name': 'chandra kant', 'rollno.': 1127, 'percentage': 93.12},\n",
       " '11452372': {'name': 'dhruv sharma', 'rollno.': 1128, 'percentage': 82.6},\n",
       " '11452373': {'name': 'dheeraj sahu', 'rollno.': 1129, 'percentage': 54.9},\n",
       " '11452374': {'name': 'divya chauhan', 'rollno.': 1130, 'percentage': 57.87},\n",
       " '11452375': {'name': 'ejas khan', 'rollno.': 1131, 'percentage': 72.38},\n",
       " '11452376': {'name': 'farhan khan', 'rollno.': 1132, 'percentage': 59.78},\n",
       " '11452377': {'name': 'fatima ali', 'rollno.': 1133, 'percentage': 52.68},\n",
       " '11452378': {'name': 'gyanendra tiwari', 'rollno.': 1134, 'percentage': 95.2},\n",
       " '11452379': {'name': 'govind saini', 'rollno.': 1135, 'percentage': 97.79},\n",
       " '11452380': {'name': 'ganesh singh', 'rollno.': 1136, 'percentage': 88.52},\n",
       " '11452381': {'name': 'hrithik thakur', 'rollno.': 1137, 'percentage': 79.6},\n",
       " '11452382': {'name': 'indrani mishra', 'rollno.': 1138, 'percentage': 79.98},\n",
       " '11452383': {'name': 'iti pathak', 'rollno.': 1139, 'percentage': 96.71},\n",
       " '11452384': {'name': 'ishan ravi', 'rollno.': 1140, 'percentage': 76.5},\n",
       " '11452385': {'name': 'jaidev lokesh', 'rollno.': 1141, 'percentage': 70.04},\n",
       " '11452386': {'name': 'kaustubh kamle', 'rollno.': 1142, 'percentage': 50.91},\n",
       " '11452387': {'name': 'karthik desai', 'rollno.': 1143, 'percentage': 87.63},\n",
       " '11452388': {'name': 'lokesh singh', 'rollno.': 1144, 'percentage': 84.52},\n",
       " '11452389': {'name': 'mithilesh', 'rollno.': 1145, 'percentage': 66.34},\n",
       " '11452390': {'name': 'manik gupta', 'rollno.': 1146, 'percentage': 53.25},\n",
       " '11452391': {'name': 'nupur mehta', 'rollno.': 1147, 'percentage': 60.49},\n",
       " '11452392': {'name': 'nisha kumari', 'rollno.': 1148, 'percentage': 94.05},\n",
       " '11452393': {'name': 'pankhuri chatterjee',\n",
       "  'rollno.': 1149,\n",
       "  'percentage': 90.18},\n",
       " '11452394': {'name': 'palak sharma', 'rollno.': 1150, 'percentage': 81.83},\n",
       " '11452395': {'name': 'rajesh narware', 'rollno.': 1151, 'percentage': 78.51},\n",
       " '11452396': {'name': 'sumit kaurav', 'rollno.': 1152, 'percentage': 55.02}}"
      ]
     },
     "execution_count": 20,
     "metadata": {},
     "output_type": "execute_result"
    }
   ],
   "source": [
    "record"
   ]
  },
  {
   "cell_type": "code",
   "execution_count": 21,
   "id": "d3ec1093",
   "metadata": {},
   "outputs": [
    {
     "data": {
      "text/plain": [
       "{'name': 'karthik desai', 'rollno.': 1143, 'percentage': 87.63}"
      ]
     },
     "execution_count": 21,
     "metadata": {},
     "output_type": "execute_result"
    }
   ],
   "source": [
    "record['11452387']"
   ]
  },
  {
   "cell_type": "code",
   "execution_count": 22,
   "id": "e994926f",
   "metadata": {},
   "outputs": [],
   "source": [
    "import time"
   ]
  },
  {
   "cell_type": "code",
   "execution_count": 23,
   "id": "a51e6697",
   "metadata": {},
   "outputs": [
    {
     "data": {
      "text/plain": [
       "'Mon Sep  6 10:07:15 2021'"
      ]
     },
     "execution_count": 23,
     "metadata": {},
     "output_type": "execute_result"
    }
   ],
   "source": [
    "time.ctime()"
   ]
  },
  {
   "cell_type": "code",
   "execution_count": 24,
   "id": "6d55ff63",
   "metadata": {},
   "outputs": [
    {
     "data": {
      "text/plain": [
       "dict_values([{'name': 'amit dubey', 'rollno.': 1121, 'percentage': 77.0}, {'name': 'akshay batra', 'rollno.': 1123, 'percentage': 74.68}, {'name': 'ashwin kumar', 'rollno.': 1124, 'percentage': 91.32}, {'name': 'binita shukla', 'rollno.': 1125, 'percentage': 85.45}, {'name': 'bhupendra singh', 'rollno.': 1126, 'percentage': 68.24}, {'name': 'chandra kant', 'rollno.': 1127, 'percentage': 93.12}, {'name': 'dhruv sharma', 'rollno.': 1128, 'percentage': 82.6}, {'name': 'dheeraj sahu', 'rollno.': 1129, 'percentage': 54.9}, {'name': 'divya chauhan', 'rollno.': 1130, 'percentage': 57.87}, {'name': 'ejas khan', 'rollno.': 1131, 'percentage': 72.38}, {'name': 'farhan khan', 'rollno.': 1132, 'percentage': 59.78}, {'name': 'fatima ali', 'rollno.': 1133, 'percentage': 52.68}, {'name': 'gyanendra tiwari', 'rollno.': 1134, 'percentage': 95.2}, {'name': 'govind saini', 'rollno.': 1135, 'percentage': 97.79}, {'name': 'ganesh singh', 'rollno.': 1136, 'percentage': 88.52}, {'name': 'hrithik thakur', 'rollno.': 1137, 'percentage': 79.6}, {'name': 'indrani mishra', 'rollno.': 1138, 'percentage': 79.98}, {'name': 'iti pathak', 'rollno.': 1139, 'percentage': 96.71}, {'name': 'ishan ravi', 'rollno.': 1140, 'percentage': 76.5}, {'name': 'jaidev lokesh', 'rollno.': 1141, 'percentage': 70.04}, {'name': 'kaustubh kamle', 'rollno.': 1142, 'percentage': 50.91}, {'name': 'karthik desai', 'rollno.': 1143, 'percentage': 87.63}, {'name': 'lokesh singh', 'rollno.': 1144, 'percentage': 84.52}, {'name': 'mithilesh', 'rollno.': 1145, 'percentage': 66.34}, {'name': 'manik gupta', 'rollno.': 1146, 'percentage': 53.25}, {'name': 'nupur mehta', 'rollno.': 1147, 'percentage': 60.49}, {'name': 'nisha kumari', 'rollno.': 1148, 'percentage': 94.05}, {'name': 'pankhuri chatterjee', 'rollno.': 1149, 'percentage': 90.18}, {'name': 'palak sharma', 'rollno.': 1150, 'percentage': 81.83}, {'name': 'rajesh narware', 'rollno.': 1151, 'percentage': 78.51}, {'name': 'sumit kaurav', 'rollno.': 1152, 'percentage': 55.02}])"
      ]
     },
     "execution_count": 24,
     "metadata": {},
     "output_type": "execute_result"
    }
   ],
   "source": [
    "record.values()"
   ]
  },
  {
   "cell_type": "code",
   "execution_count": null,
   "id": "7445f2a9",
   "metadata": {},
   "outputs": [],
   "source": [
    "uniqueid=str(input(\"enter unique id:\"))\n",
    "name=str(input(\"enter name:\"))\n",
    "rlno=int(input(\"enter rollno.:\"))\n",
    "ptg=str(input(\"enter percentage:\"))"
   ]
  },
  {
   "cell_type": "code",
   "execution_count": null,
   "id": "b133fcb5",
   "metadata": {},
   "outputs": [],
   "source": [
    "{uniqueid:{'name':name,'rlno':rlno,'ptg':ptg}}"
   ]
  },
  {
   "cell_type": "code",
   "execution_count": null,
   "id": "0482ab5b",
   "metadata": {},
   "outputs": [],
   "source": [
    "record[uniqueid] = {'name':name,'rlno':rlno,'ptg':ptg}"
   ]
  },
  {
   "cell_type": "code",
   "execution_count": 42,
   "id": "cc28c22f",
   "metadata": {},
   "outputs": [
    {
     "data": {
      "text/plain": [
       "{'11452366': {'name': 'amit dubey', 'rollno.': 1121, 'percentage': 77.0},\n",
       " '11452367': {'name': 'akshay batra', 'rollno.': 1123, 'percentage': 74.68},\n",
       " '11452368': {'name': 'ashwin kumar', 'rollno.': 1124, 'percentage': 91.32},\n",
       " '11452369': {'name': 'binita shukla', 'rollno.': 1125, 'percentage': 85.45},\n",
       " '11452370': {'name': 'bhupendra singh', 'rollno.': 1126, 'percentage': 68.24},\n",
       " '11452371': {'name': 'chandra kant', 'rollno.': 1127, 'percentage': 93.12},\n",
       " '11452372': {'name': 'dhruv sharma', 'rollno.': 1128, 'percentage': 82.6},\n",
       " '11452373': {'name': 'dheeraj sahu', 'rollno.': 1129, 'percentage': 54.9},\n",
       " '11452374': {'name': 'divya chauhan', 'rollno.': 1130, 'percentage': 57.87},\n",
       " '11452375': {'name': 'ejas khan', 'rollno.': 1131, 'percentage': 72.38},\n",
       " '11452376': {'name': 'farhan khan', 'rollno.': 1132, 'percentage': 59.78},\n",
       " '11452377': {'name': 'fatima ali', 'rollno.': 1133, 'percentage': 52.68},\n",
       " '11452378': {'name': 'gyanendra tiwari', 'rollno.': 1134, 'percentage': 95.2},\n",
       " '11452379': {'name': 'govind saini', 'rollno.': 1135, 'percentage': 97.79},\n",
       " '11452380': {'name': 'ganesh singh', 'rollno.': 1136, 'percentage': 88.52},\n",
       " '11452381': {'name': 'hrithik thakur', 'rollno.': 1137, 'percentage': 79.6},\n",
       " '11452382': {'name': 'indrani mishra', 'rollno.': 1138, 'percentage': 79.98},\n",
       " '11452383': {'name': 'iti pathak', 'rollno.': 1139, 'percentage': 96.71},\n",
       " '11452384': {'name': 'ishan ravi', 'rollno.': 1140, 'percentage': 76.5},\n",
       " '11452385': {'name': 'jaidev lokesh', 'rollno.': 1141, 'percentage': 70.04},\n",
       " '11452386': {'name': 'kaustubh kamle', 'rollno.': 1142, 'percentage': 50.91},\n",
       " '11452387': {'name': 'karthik desai', 'rollno.': 1143, 'percentage': 87.63},\n",
       " '11452388': {'name': 'lokesh singh', 'rollno.': 1144, 'percentage': 84.52},\n",
       " '11452389': {'name': 'mithilesh', 'rollno.': 1145, 'percentage': 66.34},\n",
       " '11452390': {'name': 'manik gupta', 'rollno.': 1146, 'percentage': 53.25},\n",
       " '11452391': {'name': 'nupur mehta', 'rollno.': 1147, 'percentage': 60.49},\n",
       " '11452392': {'name': 'nisha kumari', 'rollno.': 1148, 'percentage': 94.05},\n",
       " '11452393': {'name': 'pankhuri chatterjee',\n",
       "  'rollno.': 1149,\n",
       "  'percentage': 90.18},\n",
       " '11452394': {'name': 'palak sharma', 'rollno.': 1150, 'percentage': 81.83},\n",
       " '11452395': {'name': 'rajesh narware', 'rollno.': 1151, 'percentage': 78.51},\n",
       " '11452396': {'name': 'sumit kaurav', 'rollno.': 1152, 'percentage': 55.02},\n",
       " '11452397': {'name': 'saurabh pandey', 'rlno': 1153, 'ptg': '89.60'}}"
      ]
     },
     "execution_count": 42,
     "metadata": {},
     "output_type": "execute_result"
    }
   ],
   "source": [
    "record"
   ]
  },
  {
   "cell_type": "code",
   "execution_count": null,
   "id": "11c87309",
   "metadata": {},
   "outputs": [],
   "source": [
    "#add new records\n",
    "\n",
    "uniqueid=str(input(\"enter unique id:\"))\n",
    "name=str(input(\"enter name:\"))\n",
    "rlno=int(input(\"enter rollno.:\"))\n",
    "ptg=str(input(\"enter percentage:\"))\n",
    "\n",
    "record[uniqueid] = {'name':name,'rlno':rlno,'ptg':ptg}\n",
    "\n",
    "js=json.dumps(record)\n",
    "\n",
    "fd=open(\"record.txt\",\"w\")\n",
    "fd.write(js)\n",
    "fd.close()"
   ]
  },
  {
   "cell_type": "code",
   "execution_count": null,
   "id": "ac038f25",
   "metadata": {},
   "outputs": [],
   "source": [
    "#add into percentage\n",
    "\n",
    "uniqueid=str(input(\"enter unique id:\"))\n",
    "name=str(input(\"enter name:\"))\n",
    "rlno=int(input(\"enter rollno.:\"))\n",
    "ptg=str(input(\"enter percentage:\"))\n",
    "addptg=str(input(\"enter value:\"))\n",
    "\n",
    "\n",
    "record[uniqueid] = {'name':name,'rlno':rlno,'ptg':addptg}\n",
    "\n",
    "js=json.dumps(record)\n",
    "\n",
    "fd=open(\"record.txt\",\"w\")\n",
    "fd.write(js)\n",
    "fd.close()"
   ]
  },
  {
   "cell_type": "code",
   "execution_count": null,
   "id": "56861baa",
   "metadata": {},
   "outputs": [],
   "source": [
    "#substract percentage records\n",
    "\n",
    "uniqueid=str(input(\"enter unique id:\"))\n",
    "name=str(input(\"enter name:\"))\n",
    "rlno=int(input(\"enter rollno.:\"))\n",
    "ptg=str(input(\"enter percentage:\"))\n",
    "subptg=str(input(\"enter value:\"))\n",
    "\n",
    "record[uniqueid] = {'name':name,'rlno':rlno,'ptg':subptg}\n",
    "\n",
    "js=json.dumps(record)\n",
    "\n",
    "fd=open(\"record.txt\",\"w\")\n",
    "fd.write(js)\n",
    "fd.close()"
   ]
  },
  {
   "cell_type": "code",
   "execution_count": null,
   "id": "5fd5bd3e",
   "metadata": {},
   "outputs": [],
   "source": [
    "#remove the whole record of the student\n",
    "\n",
    "uniqueid=str(input(\"enter unique id:\"))\n",
    "name=str(input(\"enter name:\"))\n",
    "rlno=int(input(\"enter rollno.:\"))\n",
    "ptg=str(input(\"enter percentage:\"))\n",
    "\n",
    "record[uniqueid]['name'] = record[uniqueid]['name'] - name\n",
    "record[uniqueid]['rlno'] = record[uniqueid]['rlno'] - rlno\n",
    "record[uniqueid]['ptg'] = record[uniqueid]['ptg'] - ptg\n",
    "\n",
    "js=json.dumps(record)\n",
    "\n",
    "fd=open(\"record.txt\",\"w\")\n",
    "fd.write(js)\n",
    "fd.close()"
   ]
  },
  {
   "cell_type": "code",
   "execution_count": null,
   "id": "7efea835",
   "metadata": {},
   "outputs": [],
   "source": []
  }
 ],
 "metadata": {
  "kernelspec": {
   "display_name": "Python 3",
   "language": "python",
   "name": "python3"
  },
  "language_info": {
   "codemirror_mode": {
    "name": "ipython",
    "version": 3
   },
   "file_extension": ".py",
   "mimetype": "text/x-python",
   "name": "python",
   "nbconvert_exporter": "python",
   "pygments_lexer": "ipython3",
   "version": "3.8.8"
  }
 },
 "nbformat": 4,
 "nbformat_minor": 5
}
